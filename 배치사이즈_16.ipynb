{
 "cells": [
  {
   "cell_type": "code",
   "execution_count": 1,
   "id": "62c98f02",
   "metadata": {},
   "outputs": [],
   "source": [
    "#필요한 모드 임포트\n",
    "import os.path\n",
    "import cv2\n",
    "import numpy as np\n",
    "import pandas as pd\n",
    "import matplotlib.pyplot as plt\n",
    "import tensorflow as tf\n",
    "import seaborn as sns\n",
    "from PIL import Image\n",
    "\n",
    "from pathlib import Path\n",
    "from tqdm import tqdm\n",
    "from time import perf_counter\n",
    "\n",
    "from tensorflow.keras import regularizers\n",
    "from tensorflow.keras.optimizers import Adam\n",
    "from sklearn.model_selection import train_test_split\n",
    "from sklearn.metrics import classification_report,accuracy_score\n",
    "from IPython.display import Markdown, display\n",
    "from keras.preprocessing.image import ImageDataGenerator"
   ]
  },
  {
   "cell_type": "code",
   "execution_count": 2,
   "id": "658816a4",
   "metadata": {},
   "outputs": [
    {
     "data": {
      "text/html": [
       "<div>\n",
       "<style scoped>\n",
       "    .dataframe tbody tr th:only-of-type {\n",
       "        vertical-align: middle;\n",
       "    }\n",
       "\n",
       "    .dataframe tbody tr th {\n",
       "        vertical-align: top;\n",
       "    }\n",
       "\n",
       "    .dataframe thead th {\n",
       "        text-align: right;\n",
       "    }\n",
       "</style>\n",
       "<table border=\"1\" class=\"dataframe\">\n",
       "  <thead>\n",
       "    <tr style=\"text-align: right;\">\n",
       "      <th></th>\n",
       "      <th>Filepath</th>\n",
       "      <th>Label</th>\n",
       "    </tr>\n",
       "  </thead>\n",
       "  <tbody>\n",
       "    <tr>\n",
       "      <th>0</th>\n",
       "      <td>C:\\Users\\alstn\\Desktop\\153.반려동물 안구질환 데이터\\01.데이...</td>\n",
       "      <td>백내장</td>\n",
       "    </tr>\n",
       "    <tr>\n",
       "      <th>1</th>\n",
       "      <td>C:\\Users\\alstn\\Desktop\\153.반려동물 안구질환 데이터\\01.데이...</td>\n",
       "      <td>백내장</td>\n",
       "    </tr>\n",
       "    <tr>\n",
       "      <th>2</th>\n",
       "      <td>C:\\Users\\alstn\\Desktop\\153.반려동물 안구질환 데이터\\01.데이...</td>\n",
       "      <td>무</td>\n",
       "    </tr>\n",
       "    <tr>\n",
       "      <th>3</th>\n",
       "      <td>C:\\Users\\alstn\\Desktop\\153.반려동물 안구질환 데이터\\01.데이...</td>\n",
       "      <td>결막염</td>\n",
       "    </tr>\n",
       "    <tr>\n",
       "      <th>4</th>\n",
       "      <td>C:\\Users\\alstn\\Desktop\\153.반려동물 안구질환 데이터\\01.데이...</td>\n",
       "      <td>무</td>\n",
       "    </tr>\n",
       "  </tbody>\n",
       "</table>\n",
       "</div>"
      ],
      "text/plain": [
       "                                            Filepath Label\n",
       "0  C:\\Users\\alstn\\Desktop\\153.반려동물 안구질환 데이터\\01.데이...   백내장\n",
       "1  C:\\Users\\alstn\\Desktop\\153.반려동물 안구질환 데이터\\01.데이...   백내장\n",
       "2  C:\\Users\\alstn\\Desktop\\153.반려동물 안구질환 데이터\\01.데이...     무\n",
       "3  C:\\Users\\alstn\\Desktop\\153.반려동물 안구질환 데이터\\01.데이...   결막염\n",
       "4  C:\\Users\\alstn\\Desktop\\153.반려동물 안구질환 데이터\\01.데이...     무"
      ]
     },
     "execution_count": 2,
     "metadata": {},
     "output_type": "execute_result"
    }
   ],
   "source": [
    "#이미지 파일경로 저장 및 데이터 라벨링\n",
    "dir_ = Path('C:/Users/alstn/Desktop/153.반려동물 안구질환 데이터/01.데이터/1.Training/원천데이터/TS1/개/안구/일반')\n",
    "test_dir_ = Path('C:/Users/alstn/Desktop/153.반려동물 안구질환 데이터/01.데이터/2.Validation/원천데이터/VS/개/안구/일반/')\n",
    "\n",
    "import glob\n",
    "types = ('**/*.jpg', '**/*.png','**/*.jpeg') # the tuple of file types\n",
    "files_grabbed = []\n",
    "test_files_grabbed = []\n",
    "for files in types:\n",
    "    files_grabbed.extend(dir_.glob(files))\n",
    "    test_files_grabbed.extend(test_dir_.glob(files))\n",
    "    \n",
    "def proc_img(filepath):\n",
    "    \"\"\"\n",
    "   \t\t이미지데이터의 경로와 label데이터로 데이터프레임 만들기 \n",
    "    \"\"\"\n",
    "\n",
    "    labels = []\n",
    "    for i in range(len(filepath)):\n",
    "        if(str(filepath[i]).split(\"\\\\\")[-2] == '무'):\n",
    "            labels.append(str(filepath[i]).split(\"\\\\\")[-2])\n",
    "        else:\n",
    "            labels.append(str(filepath[i]).split(\"\\\\\")[-3])\n",
    "\n",
    "    filepath = pd.Series(filepath, name='Filepath').astype(str)\n",
    "    labels = pd.Series(labels, name='Label')\n",
    "             \n",
    "    # 경로와 라벨 concatenate\n",
    "    df = pd.concat([filepath, labels], axis=1)\n",
    "\n",
    "    # index 재설정\n",
    "    df = df.sample(frac=1,random_state=0).reset_index(drop = True)\n",
    "    \n",
    "    return df\n",
    "\n",
    "df = proc_img(files_grabbed)\n",
    "test_df = proc_img(test_files_grabbed)\n",
    "df.head(5)"
   ]
  },
  {
   "cell_type": "code",
   "execution_count": 3,
   "id": "6a558e11",
   "metadata": {},
   "outputs": [
    {
     "data": {
      "text/html": [
       "<div>\n",
       "<style scoped>\n",
       "    .dataframe tbody tr th:only-of-type {\n",
       "        vertical-align: middle;\n",
       "    }\n",
       "\n",
       "    .dataframe tbody tr th {\n",
       "        vertical-align: top;\n",
       "    }\n",
       "\n",
       "    .dataframe thead th {\n",
       "        text-align: right;\n",
       "    }\n",
       "</style>\n",
       "<table border=\"1\" class=\"dataframe\">\n",
       "  <thead>\n",
       "    <tr style=\"text-align: right;\">\n",
       "      <th></th>\n",
       "      <th>Filepath</th>\n",
       "      <th>Label</th>\n",
       "    </tr>\n",
       "  </thead>\n",
       "  <tbody>\n",
       "    <tr>\n",
       "      <th>0</th>\n",
       "      <td>C:\\Users\\alstn\\Desktop\\153.반려동물 안구질환 데이터\\01.데이...</td>\n",
       "      <td>비궤양성각막질환</td>\n",
       "    </tr>\n",
       "    <tr>\n",
       "      <th>1</th>\n",
       "      <td>C:\\Users\\alstn\\Desktop\\153.반려동물 안구질환 데이터\\01.데이...</td>\n",
       "      <td>무</td>\n",
       "    </tr>\n",
       "    <tr>\n",
       "      <th>2</th>\n",
       "      <td>C:\\Users\\alstn\\Desktop\\153.반려동물 안구질환 데이터\\01.데이...</td>\n",
       "      <td>궤양성각막질환</td>\n",
       "    </tr>\n",
       "    <tr>\n",
       "      <th>3</th>\n",
       "      <td>C:\\Users\\alstn\\Desktop\\153.반려동물 안구질환 데이터\\01.데이...</td>\n",
       "      <td>백내장</td>\n",
       "    </tr>\n",
       "    <tr>\n",
       "      <th>4</th>\n",
       "      <td>C:\\Users\\alstn\\Desktop\\153.반려동물 안구질환 데이터\\01.데이...</td>\n",
       "      <td>무</td>\n",
       "    </tr>\n",
       "  </tbody>\n",
       "</table>\n",
       "</div>"
      ],
      "text/plain": [
       "                                            Filepath     Label\n",
       "0  C:\\Users\\alstn\\Desktop\\153.반려동물 안구질환 데이터\\01.데이...  비궤양성각막질환\n",
       "1  C:\\Users\\alstn\\Desktop\\153.반려동물 안구질환 데이터\\01.데이...         무\n",
       "2  C:\\Users\\alstn\\Desktop\\153.반려동물 안구질환 데이터\\01.데이...   궤양성각막질환\n",
       "3  C:\\Users\\alstn\\Desktop\\153.반려동물 안구질환 데이터\\01.데이...       백내장\n",
       "4  C:\\Users\\alstn\\Desktop\\153.반려동물 안구질환 데이터\\01.데이...         무"
      ]
     },
     "execution_count": 3,
     "metadata": {},
     "output_type": "execute_result"
    }
   ],
   "source": [
    "test_df.head(5)"
   ]
  },
  {
   "cell_type": "code",
   "execution_count": 4,
   "id": "ae50b1da",
   "metadata": {},
   "outputs": [
    {
     "name": "stdout",
     "output_type": "stream",
     "text": [
      "Number of pictures: 176815\n",
      "\n",
      "Number of different labels: 11\n",
      "\n",
      "Labels: ['백내장' '무' '결막염' '궤양성각막질환' '안검내반증' '안검종양' '색소침착성각막염' '유루증' '안검염' '핵경화'\n",
      " '비궤양성각막질환']\n",
      "\n",
      "Number of pictures: 22058\n",
      "\n",
      "Number of different labels: 11\n",
      "\n",
      "Labels: ['비궤양성각막질환' '무' '궤양성각막질환' '백내장' '색소침착성각막염' '유루증' '결막염' '핵경화' '안검내반증'\n",
      " '안검종양' '안검염']\n"
     ]
    }
   ],
   "source": [
    "#데이터 라벨링된 결과\n",
    "print(f'Number of pictures: {df.shape[0]}\\n')\n",
    "print(f'Number of different labels: {len(df.Label.unique())}\\n')\n",
    "print(f'Labels: {df.Label.unique()}\\n')\n",
    "\n",
    "#데이터 라벨링된 결과\n",
    "print(f'Number of pictures: {test_df.shape[0]}\\n')\n",
    "print(f'Number of different labels: {len(test_df.Label.unique())}\\n')\n",
    "print(f'Labels: {test_df.Label.unique()}')"
   ]
  },
  {
   "cell_type": "code",
   "execution_count": 5,
   "id": "aa48ae57",
   "metadata": {},
   "outputs": [],
   "source": [
    "def create_gen():\n",
    "    # 생성기 및 데이터 증강으로 이미지 로드\n",
    "    train_generator = tf.keras.preprocessing.image.ImageDataGenerator(\n",
    "        preprocessing_function=tf.keras.applications.mobilenet_v2.preprocess_input,\n",
    "        validation_split=0.2\n",
    "    )\n",
    "\n",
    "    test_generator = tf.keras.preprocessing.image.ImageDataGenerator(\n",
    "        preprocessing_function=tf.keras.applications.mobilenet_v2.preprocess_input\n",
    "    )\n",
    "\n",
    "    train_images = train_generator.flow_from_dataframe(\n",
    "        dataframe=df,\n",
    "        x_col='Filepath', # 파일위치 열이름\n",
    "        y_col='Label', # 클래스 열이름\n",
    "        target_size=(224, 224), # 이미지 사이즈\n",
    "        color_mode='rgb', # 이미지 채널수\n",
    "        class_mode='categorical', # Y값(Label값)\n",
    "        batch_size=16,\n",
    "        shuffle=True, # 데이터를 섞을지 여부\n",
    "        seed=0,\n",
    "        subset='training', # train 인지 val인지 설정\n",
    "        rotation_range=30, # 회전제한 각도 30도\n",
    "        zoom_range=0.15, # 확대 축소 15%\n",
    "        width_shift_range=0.2, # 좌우이동 20%\n",
    "        height_shift_range=0.2, # 상하이동 20%\n",
    "        shear_range=0.15, # 반시계방햐의 각도\n",
    "        horizontal_flip=True, # 좌우 반전 True\n",
    "        fill_mode=\"nearest\"\n",
    "        # 이미지 변경시 보완 방법 (constant, nearest, reflect, wrap) 4개 존재\n",
    "    )\n",
    "\n",
    "    val_images = train_generator.flow_from_dataframe(\n",
    "        dataframe=df,\n",
    "        x_col='Filepath',\n",
    "        y_col='Label',\n",
    "        target_size=(224, 224),\n",
    "        color_mode='rgb',\n",
    "        class_mode='categorical',\n",
    "        batch_size=16,\n",
    "        shuffle=True,\n",
    "        seed=0,\n",
    "        subset='validation',\n",
    "        rotation_range=30,\n",
    "        zoom_range=0.15,\n",
    "        width_shift_range=0.2,\n",
    "        height_shift_range=0.2,\n",
    "        shear_range=0.15,\n",
    "        horizontal_flip=True,\n",
    "        fill_mode=\"nearest\"\n",
    "    )\n",
    "\n",
    "    test_images = test_generator.flow_from_dataframe(\n",
    "        dataframe=test_df,\n",
    "        x_col='Filepath',\n",
    "        y_col='Label',\n",
    "        target_size=(224, 224),\n",
    "        color_mode='rgb',\n",
    "        class_mode='categorical',\n",
    "        batch_size=16,\n",
    "        shuffle=False\n",
    "    )\n",
    "    \n",
    "    return train_generator,test_generator,train_images,val_images,test_images\n",
    "\n",
    "def get_model(model):\n",
    "# Load the pretained model\n",
    "    kwargs =    {'input_shape':(224, 224, 3),\n",
    "                'include_top':False,\n",
    "                'weights':'imagenet',\n",
    "                'pooling':'avg'}\n",
    "    \n",
    "    pretrained_model = model(**kwargs)\n",
    "    pretrained_model.trainable = False\n",
    "    \n",
    "    inputs = pretrained_model.input\n",
    "\n",
    "    x = tf.keras.layers.Dense(1024, activation='relu')(pretrained_model.output)\n",
    "    x = tf.keras.layers.Dropout(0.5)(x)\n",
    "    outputs = tf.keras.layers.Dense(11, activation='softmax')(x)\n",
    "    # 라벨 개수가 11개이기 때문에 Dencs도 11로 설정\n",
    "    model = tf.keras.Model(inputs=inputs, outputs=outputs)\n",
    "\n",
    "    model.compile(\n",
    "        optimizer=tf.keras.optimizers.Adam(learning_rate=0.0001),\n",
    "        loss='categorical_crossentropy',\n",
    "        metrics=['accuracy']\n",
    "    )\n",
    "    return model"
   ]
  },
  {
   "cell_type": "code",
   "execution_count": 6,
   "id": "871e333a",
   "metadata": {},
   "outputs": [
    {
     "name": "stdout",
     "output_type": "stream",
     "text": [
      "Found 141452 validated image filenames belonging to 11 classes.\n",
      "Found 35363 validated image filenames belonging to 11 classes.\n",
      "Found 22058 validated image filenames belonging to 11 classes.\n",
      "Epoch 1/20\n",
      "8841/8841 [==============================] - 4517s 508ms/step - loss: 1.0647 - accuracy: 0.6214 - val_loss: 0.9478 - val_accuracy: 0.6589\n",
      "Epoch 2/20\n",
      "8841/8841 [==============================] - 4475s 506ms/step - loss: 0.9475 - accuracy: 0.6550 - val_loss: 0.9101 - val_accuracy: 0.6662\n",
      "Epoch 3/20\n",
      "8841/8841 [==============================] - 4401s 498ms/step - loss: 0.9079 - accuracy: 0.6677 - val_loss: 0.8789 - val_accuracy: 0.6760\n",
      "Epoch 4/20\n",
      "8841/8841 [==============================] - 4428s 501ms/step - loss: 0.8814 - accuracy: 0.6749 - val_loss: 0.8637 - val_accuracy: 0.6801\n",
      "Epoch 5/20\n",
      "8841/8841 [==============================] - 4387s 496ms/step - loss: 0.8599 - accuracy: 0.6806 - val_loss: 0.8588 - val_accuracy: 0.6818\n",
      "Epoch 6/20\n",
      "8841/8841 [==============================] - 4385s 496ms/step - loss: 0.8405 - accuracy: 0.6864 - val_loss: 0.8386 - val_accuracy: 0.6857\n",
      "Epoch 7/20\n",
      "8841/8841 [==============================] - 4341s 491ms/step - loss: 0.8236 - accuracy: 0.6918 - val_loss: 0.8396 - val_accuracy: 0.6832\n",
      "Epoch 8/20\n",
      "8841/8841 [==============================] - 4371s 494ms/step - loss: 0.8083 - accuracy: 0.6960 - val_loss: 0.8242 - val_accuracy: 0.6893\n",
      "Epoch 9/20\n",
      "8841/8841 [==============================] - 4380s 495ms/step - loss: 0.7965 - accuracy: 0.6998 - val_loss: 0.8228 - val_accuracy: 0.6882\n",
      "Epoch 10/20\n",
      "8841/8841 [==============================] - 4363s 494ms/step - loss: 0.7851 - accuracy: 0.7041 - val_loss: 0.8231 - val_accuracy: 0.6870\n",
      "Epoch 11/20\n",
      "8841/8841 [==============================] - 4315s 488ms/step - loss: 0.7739 - accuracy: 0.7062 - val_loss: 0.8077 - val_accuracy: 0.6912\n",
      "Epoch 12/20\n",
      "8841/8841 [==============================] - 4314s 488ms/step - loss: 0.7616 - accuracy: 0.7096 - val_loss: 0.8100 - val_accuracy: 0.6885\n",
      "Epoch 13/20\n",
      "8841/8841 [==============================] - 4349s 492ms/step - loss: 0.7518 - accuracy: 0.7147 - val_loss: 0.8072 - val_accuracy: 0.6886\n",
      "Epoch 14/20\n",
      "8841/8841 [==============================] - 4351s 492ms/step - loss: 0.7420 - accuracy: 0.7158 - val_loss: 0.8018 - val_accuracy: 0.6939\n",
      "Epoch 15/20\n",
      "8841/8841 [==============================] - 4414s 499ms/step - loss: 0.7339 - accuracy: 0.7197 - val_loss: 0.8093 - val_accuracy: 0.6892\n",
      "Epoch 16/20\n",
      "8841/8841 [==============================] - 4446s 503ms/step - loss: 0.7245 - accuracy: 0.7208 - val_loss: 0.7983 - val_accuracy: 0.6900\n",
      "Epoch 17/20\n",
      "8841/8841 [==============================] - 4523s 512ms/step - loss: 0.7171 - accuracy: 0.7235 - val_loss: 0.8012 - val_accuracy: 0.6898\n",
      "Epoch 18/20\n",
      "8841/8841 [==============================] - 4420s 500ms/step - loss: 0.7084 - accuracy: 0.7262 - val_loss: 0.7965 - val_accuracy: 0.6918\n",
      "Epoch 19/20\n",
      "8841/8841 [==============================] - 4401s 498ms/step - loss: 0.7030 - accuracy: 0.7279 - val_loss: 0.7918 - val_accuracy: 0.6881\n",
      "Epoch 20/20\n",
      "8841/8841 [==============================] - 4387s 496ms/step - loss: 0.6941 - accuracy: 0.7310 - val_loss: 0.8089 - val_accuracy: 0.6882\n"
     ]
    }
   ],
   "source": [
    "train_generator,test_generator,train_images,val_images,test_images=create_gen()\n",
    "callbacks = [tf.keras.callbacks.EarlyStopping(monitor='val_loss',patience=5),\n",
    "             tf.keras.callbacks.ModelCheckpoint(filepath='test_model.h5',monitor='val_loss',mode='min', save_best_only=True)]\n",
    "\n",
    "with tf.device('/GPU:0'):\n",
    "    model = get_model(tf.keras.applications.DenseNet201) #가장 좋은 성과를 낸 모델을 사용\n",
    "    history = model.fit(train_images,validation_data=val_images,epochs=20,callbacks=callbacks)"
   ]
  },
  {
   "cell_type": "code",
   "execution_count": 7,
   "id": "128b1919",
   "metadata": {},
   "outputs": [
    {
     "data": {
      "image/png": "[encoded data removed]",
      "text/plain": [
       "<Figure size 640x480 with 1 Axes>"
      ]
     },
     "metadata": {},
     "output_type": "display_data"
    }
   ],
   "source": [
    "#정확도\n",
    "pd.DataFrame(history.history)[['accuracy','val_accuracy']].plot()\n",
    "plt.title(\"Accuracy\")\n",
    "plt.show()"
   ]
  },
  {
   "cell_type": "code",
   "execution_count": 8,
   "id": "4602e988",
   "metadata": {},
   "outputs": [
    {
     "data": {
      "image/png": "[encoded data removed]",
      "text/plain": [
       "<Figure size 640x480 with 1 Axes>"
      ]
     },
     "metadata": {},
     "output_type": "display_data"
    }
   ],
   "source": [
    "#손실도\n",
    "pd.DataFrame(history.history)[['loss','val_loss']].plot()\n",
    "plt.title(\"Loss\")\n",
    "plt.show()"
   ]
  },
  {
   "cell_type": "code",
   "execution_count": 9,
   "id": "cb9096f6",
   "metadata": {},
   "outputs": [
    {
     "name": "stdout",
     "output_type": "stream",
     "text": [
      "1379/1379 [==============================] - 436s 314ms/step\n"
     ]
    },
    {
     "data": {
      "text/markdown": [
       "# Accuracy on the test set: 61.80%"
      ],
      "text/plain": [
       "<IPython.core.display.Markdown object>"
      ]
     },
     "metadata": {},
     "output_type": "display_data"
    }
   ],
   "source": [
    "# Predict the label of the test_images\n",
    "pred = model.predict(test_images)\n",
    "pred = np.argmax(pred,axis=1)\n",
    "\n",
    "# Map the label\n",
    "labels = (train_images.class_indices)\n",
    "labels = dict((v,k) for k,v in labels.items())\n",
    "pred = [labels[k] for k in pred]\n",
    "\n",
    "def printmd(string):\n",
    "    # Print with Markdowns    \n",
    "    display(Markdown(string))\n",
    "    \n",
    "y_test = list(test_df.Label)\n",
    "acc = accuracy_score(y_test,pred)\n",
    "printmd(f'# Accuracy on the test set: {acc * 100:.2f}%')"
   ]
  },
  {
   "cell_type": "code",
   "execution_count": null,
   "id": "65f764e0",
   "metadata": {},
   "outputs": [],
   "source": []
  }
 ],
 "metadata": {
  "kernelspec": {
   "display_name": "Tf-Gpu",
   "language": "python",
   "name": "cuda"
  },
  "language_info": {
   "codemirror_mode": {
    "name": "ipython",
    "version": 3
   },
   "file_extension": ".py",
   "mimetype": "text/x-python",
   "name": "python",
   "nbconvert_exporter": "python",
   "pygments_lexer": "ipython3",
   "version": "3.10.9"
  }
 },
 "nbformat": 4,
 "nbformat_minor": 5
}
